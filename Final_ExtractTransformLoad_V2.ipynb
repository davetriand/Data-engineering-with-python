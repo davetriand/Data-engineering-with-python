{
  "cells": [
    {
      "cell_type": "markdown",
      "metadata": {
        "id": "view-in-github",
        "colab_type": "text"
      },
      "source": [
        "<a href=\"https://colab.research.google.com/github/davetriand/Data-engineering-with-python/blob/main/Final_ExtractTransformLoad_V2.ipynb\" target=\"_parent\"><img src=\"https://colab.research.google.com/assets/colab-badge.svg\" alt=\"Open In Colab\"/></a>"
      ]
    },
    {
      "metadata": {
        "id": "AGbAVBISSs67"
      },
      "cell_type": "markdown",
      "source": [
        "# Data Engineer - ETL\n"
      ]
    },
    {
      "metadata": {
        "id": "PPrOtIvwSs7G"
      },
      "cell_type": "markdown",
      "source": [
        "## Objectives\n",
        "\n",
        "*   Run the ETL process\n",
        "*   Extract bank and market cap data from the JSON file `bank_market_cap.json`\n",
        "*   Transform the market cap currency using the exchange rate data\n",
        "*   Load the transformed data into a seperate CSV\n"
      ]
    },
    {
      "metadata": {
        "id": "PioGF460Ss7I"
      },
      "cell_type": "code",
      "source": [
        "#!mamba install pandas==1.3.3 -y\n",
        "#!mamba install requests==2.26.0 -y"
      ],
      "execution_count": null,
      "outputs": []
    },
    {
      "metadata": {
        "id": "3p1h7EzvSs7L"
      },
      "cell_type": "markdown",
      "source": [
        "## Imports\n",
        "\n",
        "Import any additional libraries you may need here.\n"
      ]
    },
    {
      "metadata": {
        "id": "1oRxBn-OSs7M"
      },
      "cell_type": "code",
      "source": [
        "import glob\n",
        "import pandas as pd\n",
        "from datetime import datetime"
      ],
      "execution_count": null,
      "outputs": []
    },
    {
      "metadata": {
        "id": "qggEpDIzSs7U",
        "outputId": "95cd1895-2e1d-4fe9-9cfe-b8a9e501add5"
      },
      "cell_type": "code",
      "source": [
        "!wget https://cf-courses-data.s3.us.cloud-object-storage.appdomain.cloud/IBMDeveloperSkillsNetwork-PY0221EN-SkillsNetwork/labs/module%206/Lab%20-%20Extract%20Transform%20Load/data/bank_market_cap_1.json\n",
        "!wget https://cf-courses-data.s3.us.cloud-object-storage.appdomain.cloud/IBMDeveloperSkillsNetwork-PY0221EN-SkillsNetwork/labs/module%206/Lab%20-%20Extract%20Transform%20Load/data/bank_market_cap_2.json\n",
        "!wget https://cf-courses-data.s3.us.cloud-object-storage.appdomain.cloud/IBMDeveloperSkillsNetwork-PY0221EN-SkillsNetwork/labs/module%206/Final%20Assignment/exchange_rates.csv"
      ],
      "execution_count": null,
      "outputs": [
        {
          "output_type": "stream",
          "text": "--2022-07-02 13:08:29--  https://cf-courses-data.s3.us.cloud-object-storage.appdomain.cloud/IBMDeveloperSkillsNetwork-PY0221EN-SkillsNetwork/labs/module%206/Lab%20-%20Extract%20Transform%20Load/data/bank_market_cap_1.json\nResolving cf-courses-data.s3.us.cloud-object-storage.appdomain.cloud (cf-courses-data.s3.us.cloud-object-storage.appdomain.cloud)... 198.23.119.245\nConnecting to cf-courses-data.s3.us.cloud-object-storage.appdomain.cloud (cf-courses-data.s3.us.cloud-object-storage.appdomain.cloud)|198.23.119.245|:443... connected.\nHTTP request sent, awaiting response... 200 OK\nLength: 2815 (2.7K) [application/json]\nSaving to: ‘bank_market_cap_1.json’\n\nbank_market_cap_1.j 100%[===================>]   2.75K  --.-KB/s    in 0s      \n\n2022-07-02 13:08:29 (92.7 MB/s) - ‘bank_market_cap_1.json’ saved [2815/2815]\n\n--2022-07-02 13:08:30--  https://cf-courses-data.s3.us.cloud-object-storage.appdomain.cloud/IBMDeveloperSkillsNetwork-PY0221EN-SkillsNetwork/labs/module%206/Lab%20-%20Extract%20Transform%20Load/data/bank_market_cap_2.json\nResolving cf-courses-data.s3.us.cloud-object-storage.appdomain.cloud (cf-courses-data.s3.us.cloud-object-storage.appdomain.cloud)... 198.23.119.245\nConnecting to cf-courses-data.s3.us.cloud-object-storage.appdomain.cloud (cf-courses-data.s3.us.cloud-object-storage.appdomain.cloud)|198.23.119.245|:443... connected.\nHTTP request sent, awaiting response... 200 OK\nLength: 1429 (1.4K) [application/json]\nSaving to: ‘bank_market_cap_2.json’\n\nbank_market_cap_2.j 100%[===================>]   1.40K  --.-KB/s    in 0s      \n\n2022-07-02 13:08:32 (38.5 MB/s) - ‘bank_market_cap_2.json’ saved [1429/1429]\n\n--2022-07-02 13:08:33--  https://cf-courses-data.s3.us.cloud-object-storage.appdomain.cloud/IBMDeveloperSkillsNetwork-PY0221EN-SkillsNetwork/labs/module%206/Final%20Assignment/exchange_rates.csv\nResolving cf-courses-data.s3.us.cloud-object-storage.appdomain.cloud (cf-courses-data.s3.us.cloud-object-storage.appdomain.cloud)... 198.23.119.245\nConnecting to cf-courses-data.s3.us.cloud-object-storage.appdomain.cloud (cf-courses-data.s3.us.cloud-object-storage.appdomain.cloud)|198.23.119.245|:443... connected.\nHTTP request sent, awaiting response... 200 OK\nLength: 590 [text/csv]\nSaving to: ‘exchange_rates.csv’\n\nexchange_rates.csv  100%[===================>]     590  --.-KB/s    in 0s      \n\n2022-07-02 13:08:33 (14.2 MB/s) - ‘exchange_rates.csv’ saved [590/590]\n\n",
          "name": "stdout"
        }
      ]
    },
    {
      "metadata": {
        "id": "eMJeXHc6Ss7W"
      },
      "cell_type": "markdown",
      "source": [
        "## Extract\n"
      ]
    },
    {
      "metadata": {
        "id": "XDA7a9LxSs7X"
      },
      "cell_type": "markdown",
      "source": [
        "### JSON Extract Function\n",
        "\n",
        "This function will extract JSON files.\n"
      ]
    },
    {
      "metadata": {
        "id": "xARKZ0EnSs7X"
      },
      "cell_type": "code",
      "source": [
        "def extract_from_json(file_to_process):\n",
        "    dataframe = pd.read_json(file_to_process)\n",
        "    return dataframe"
      ],
      "execution_count": null,
      "outputs": []
    },
    {
      "metadata": {
        "id": "XtrKEMTdSs7c"
      },
      "cell_type": "code",
      "source": [
        "columns=['Name','Market Cap (US$ Billion)']"
      ],
      "execution_count": null,
      "outputs": []
    },
    {
      "metadata": {
        "id": "cGZtnNTUSs7d"
      },
      "cell_type": "code",
      "source": [
        "def extract():\n",
        "    # Write your code here\n",
        "    extracted_data = pd.DataFrame(columns=['Name','Market Cap (US$ Billion)'])\n",
        "    for jsonfile in glob.glob(\"*.json\"):\n",
        "        extracted_data = extracted_data.append(extract_from_json(jsonfile), ignore_index=True)\n",
        "        \n",
        "    return extracted_data"
      ],
      "execution_count": null,
      "outputs": []
    },
    {
      "metadata": {
        "id": "a80MSf1NSs7e",
        "outputId": "91cfb717-e927-4df3-e92c-f3eead4fab66"
      },
      "cell_type": "code",
      "source": [
        "# Write your code here\n",
        "exc_rate = pd.read_csv('exchange_rates.csv',index_col=0)\n",
        "exc_rate = exc_rate.loc['GBP',:]\n",
        "print(exc_rate)"
      ],
      "execution_count": null,
      "outputs": [
        {
          "output_type": "stream",
          "text": "Rates    0.732398\nName: GBP, dtype: float64\n",
          "name": "stdout"
        }
      ]
    },
    {
      "metadata": {
        "id": "Z_rmjFxFSs7f"
      },
      "cell_type": "code",
      "source": [
        "def transform(data):\n",
        "    # Write your code here\n",
        "    data['Market Cap (US$ Billion)'] = round(data['Market Cap (US$ Billion)']*0.732398,3)\n",
        "    data.rename(columns={'Market Cap (US$ Billion)': 'Market Cap (GBP$ Billion)'}, inplace=True)\n",
        "    return data"
      ],
      "execution_count": null,
      "outputs": []
    },
    {
      "metadata": {
        "id": "VNeWXYSsSs7g"
      },
      "cell_type": "markdown",
      "source": [
        "## Load\n",
        "\n",
        "Create a function that takes a dataframe and load it to a csv named `bank_market_cap_gbp.csv`. \n",
        "\n"
      ]
    },
    {
      "metadata": {
        "id": "XO11xTLxSs7g"
      },
      "cell_type": "code",
      "source": [
        "def load(data):\n",
        "    # Write your code here\n",
        "    data.to_csv('bank_market_cap_gbp.csv',index=False)"
      ],
      "execution_count": null,
      "outputs": []
    },
    {
      "metadata": {
        "id": "-WFK5g3mSs7g"
      },
      "cell_type": "markdown",
      "source": [
        "## Logging Function\n"
      ]
    },
    {
      "metadata": {
        "id": "ep07syZVSs7h"
      },
      "cell_type": "markdown",
      "source": [
        "Write the logging function <code>log</code> to log your data:\n"
      ]
    },
    {
      "metadata": {
        "id": "LResOHesSs7h"
      },
      "cell_type": "code",
      "source": [
        "def log(message):\n",
        "    # Write your code here\n",
        "    timestamp_format = '%Y-%h-%d-%H:%M:%S' # Year-Monthname-Day-Hour-Minute-Second\n",
        "    now = datetime.now() # get current timestamp\n",
        "    timestamp = now.strftime(timestamp_format)\n",
        "    with open(\"logfile.txt\",\"a\") as f:\n",
        "        f.write(timestamp + ',' + message + '\\n')"
      ],
      "execution_count": null,
      "outputs": []
    },
    {
      "metadata": {
        "id": "eVRXP07cSs7i"
      },
      "cell_type": "markdown",
      "source": [
        "## Running the ETL Process\n"
      ]
    },
    {
      "metadata": {
        "id": "jE8Uv3z5Ss7i"
      },
      "cell_type": "markdown",
      "source": [
        "Log the process accordingly using the following <code>\"ETL Job Started\"</code> and <code>\"Extract phase Started\"</code>\n"
      ]
    },
    {
      "metadata": {
        "id": "Gk2ApJ0mSs7n"
      },
      "cell_type": "code",
      "source": [
        "# Write your code here\n",
        "# Log that you have started the ETL process\n",
        "log(\"ETL Job Started\")\n",
        "# Log that you have started the Extract step\n",
        "log(\"Extract phase Started\")"
      ],
      "execution_count": null,
      "outputs": []
    },
    {
      "metadata": {
        "id": "naNG3CBQSs7o"
      },
      "cell_type": "markdown",
      "source": [
        "### Extract\n"
      ]
    },
    {
      "metadata": {
        "id": "IAErfL7GSs7o",
        "outputId": "23c1490e-f367-400b-9801-4f0423964ebf"
      },
      "cell_type": "code",
      "source": [
        "# Call the function here\n",
        "extracted_data = extract()\n",
        "# Print the rows here\n",
        "extracted_data.head()"
      ],
      "execution_count": null,
      "outputs": [
        {
          "output_type": "execute_result",
          "execution_count": 156,
          "data": {
            "text/plain": "                                      Name  Market Cap (US$ Billion)\n0                           JPMorgan Chase                   390.934\n1  Industrial and Commercial Bank of China                   345.214\n2                          Bank of America                   325.331\n3                              Wells Fargo                   308.013\n4                  China Construction Bank                   257.399",
            "text/html": "<div>\n<style scoped>\n    .dataframe tbody tr th:only-of-type {\n        vertical-align: middle;\n    }\n\n    .dataframe tbody tr th {\n        vertical-align: top;\n    }\n\n    .dataframe thead th {\n        text-align: right;\n    }\n</style>\n<table border=\"1\" class=\"dataframe\">\n  <thead>\n    <tr style=\"text-align: right;\">\n      <th></th>\n      <th>Name</th>\n      <th>Market Cap (US$ Billion)</th>\n    </tr>\n  </thead>\n  <tbody>\n    <tr>\n      <th>0</th>\n      <td>JPMorgan Chase</td>\n      <td>390.934</td>\n    </tr>\n    <tr>\n      <th>1</th>\n      <td>Industrial and Commercial Bank of China</td>\n      <td>345.214</td>\n    </tr>\n    <tr>\n      <th>2</th>\n      <td>Bank of America</td>\n      <td>325.331</td>\n    </tr>\n    <tr>\n      <th>3</th>\n      <td>Wells Fargo</td>\n      <td>308.013</td>\n    </tr>\n    <tr>\n      <th>4</th>\n      <td>China Construction Bank</td>\n      <td>257.399</td>\n    </tr>\n  </tbody>\n</table>\n</div>"
          },
          "metadata": {}
        }
      ]
    },
    {
      "metadata": {
        "id": "Nnk3ycbzSs7p"
      },
      "cell_type": "markdown",
      "source": [
        "Log the data as <code>\"Extract phase Ended\"</code>\n"
      ]
    },
    {
      "metadata": {
        "id": "QqQJfeCXSs7p",
        "outputId": "b5d8c1e2-7eba-475d-c772-18f37ff978bd"
      },
      "cell_type": "code",
      "source": [
        "# Write your code here\n",
        "log(\"Extract phase Ended\")\n",
        "extracted_data"
      ],
      "execution_count": null,
      "outputs": [
        {
          "output_type": "execute_result",
          "execution_count": 157,
          "data": {
            "text/plain": "                                        Name  Market Cap (US$ Billion)\n0                             JPMorgan Chase                   390.934\n1    Industrial and Commercial Bank of China                   345.214\n2                            Bank of America                   325.331\n3                                Wells Fargo                   308.013\n4                    China Construction Bank                   257.399\n..                                       ...                       ...\n100                             Ping An Bank                    37.993\n101                       Standard Chartered                    37.319\n102                     United Overseas Bank                    35.128\n103                                QNB Group                    33.560\n104                              Bank Rakyat                    33.081\n\n[105 rows x 2 columns]",
            "text/html": "<div>\n<style scoped>\n    .dataframe tbody tr th:only-of-type {\n        vertical-align: middle;\n    }\n\n    .dataframe tbody tr th {\n        vertical-align: top;\n    }\n\n    .dataframe thead th {\n        text-align: right;\n    }\n</style>\n<table border=\"1\" class=\"dataframe\">\n  <thead>\n    <tr style=\"text-align: right;\">\n      <th></th>\n      <th>Name</th>\n      <th>Market Cap (US$ Billion)</th>\n    </tr>\n  </thead>\n  <tbody>\n    <tr>\n      <th>0</th>\n      <td>JPMorgan Chase</td>\n      <td>390.934</td>\n    </tr>\n    <tr>\n      <th>1</th>\n      <td>Industrial and Commercial Bank of China</td>\n      <td>345.214</td>\n    </tr>\n    <tr>\n      <th>2</th>\n      <td>Bank of America</td>\n      <td>325.331</td>\n    </tr>\n    <tr>\n      <th>3</th>\n      <td>Wells Fargo</td>\n      <td>308.013</td>\n    </tr>\n    <tr>\n      <th>4</th>\n      <td>China Construction Bank</td>\n      <td>257.399</td>\n    </tr>\n    <tr>\n      <th>...</th>\n      <td>...</td>\n      <td>...</td>\n    </tr>\n    <tr>\n      <th>100</th>\n      <td>Ping An Bank</td>\n      <td>37.993</td>\n    </tr>\n    <tr>\n      <th>101</th>\n      <td>Standard Chartered</td>\n      <td>37.319</td>\n    </tr>\n    <tr>\n      <th>102</th>\n      <td>United Overseas Bank</td>\n      <td>35.128</td>\n    </tr>\n    <tr>\n      <th>103</th>\n      <td>QNB Group</td>\n      <td>33.560</td>\n    </tr>\n    <tr>\n      <th>104</th>\n      <td>Bank Rakyat</td>\n      <td>33.081</td>\n    </tr>\n  </tbody>\n</table>\n<p>105 rows × 2 columns</p>\n</div>"
          },
          "metadata": {}
        }
      ]
    },
    {
      "metadata": {
        "id": "vodlaV8dSs7q"
      },
      "cell_type": "markdown",
      "source": [
        "### Transform\n"
      ]
    },
    {
      "metadata": {
        "id": "MKmMpu6eSs7q"
      },
      "cell_type": "markdown",
      "source": [
        "Log the following  <code>\"Transform phase Started\"</code>\n"
      ]
    },
    {
      "metadata": {
        "id": "o9KB27_tSs7q"
      },
      "cell_type": "code",
      "source": [
        "# Write your code here\n",
        "log(\"Transform phase Started\")"
      ],
      "execution_count": null,
      "outputs": []
    },
    {
      "metadata": {
        "id": "a0lKtY59Ss7r",
        "outputId": "daaf4529-b841-4048-d4cc-6b6c49ed733e"
      },
      "cell_type": "code",
      "source": [
        "# Call the function here\n",
        "transformed_data = transform(extracted_data)\n",
        "# Print the first 5 rows here\n",
        "transformed_data.head()"
      ],
      "execution_count": null,
      "outputs": [
        {
          "output_type": "execute_result",
          "execution_count": 159,
          "data": {
            "text/plain": "                                      Name  Market Cap (GBP$ Billion)\n0                           JPMorgan Chase                    286.319\n1  Industrial and Commercial Bank of China                    252.834\n2                          Bank of America                    238.272\n3                              Wells Fargo                    225.588\n4                  China Construction Bank                    188.519",
            "text/html": "<div>\n<style scoped>\n    .dataframe tbody tr th:only-of-type {\n        vertical-align: middle;\n    }\n\n    .dataframe tbody tr th {\n        vertical-align: top;\n    }\n\n    .dataframe thead th {\n        text-align: right;\n    }\n</style>\n<table border=\"1\" class=\"dataframe\">\n  <thead>\n    <tr style=\"text-align: right;\">\n      <th></th>\n      <th>Name</th>\n      <th>Market Cap (GBP$ Billion)</th>\n    </tr>\n  </thead>\n  <tbody>\n    <tr>\n      <th>0</th>\n      <td>JPMorgan Chase</td>\n      <td>286.319</td>\n    </tr>\n    <tr>\n      <th>1</th>\n      <td>Industrial and Commercial Bank of China</td>\n      <td>252.834</td>\n    </tr>\n    <tr>\n      <th>2</th>\n      <td>Bank of America</td>\n      <td>238.272</td>\n    </tr>\n    <tr>\n      <th>3</th>\n      <td>Wells Fargo</td>\n      <td>225.588</td>\n    </tr>\n    <tr>\n      <th>4</th>\n      <td>China Construction Bank</td>\n      <td>188.519</td>\n    </tr>\n  </tbody>\n</table>\n</div>"
          },
          "metadata": {}
        }
      ]
    },
    {
      "metadata": {
        "id": "FNc68YQ0Ss7s"
      },
      "cell_type": "markdown",
      "source": [
        "Log your data <code>\"Transform phase Ended\"</code>\n"
      ]
    },
    {
      "metadata": {
        "id": "VOtbRER3Ss7s",
        "outputId": "0e621d7c-aac9-412c-c00d-767429c6293a"
      },
      "cell_type": "code",
      "source": [
        "# Write your code here\n",
        "log(\"Transform phase Ended\")\n",
        "transformed_data"
      ],
      "execution_count": null,
      "outputs": [
        {
          "output_type": "execute_result",
          "execution_count": 160,
          "data": {
            "text/plain": "                                        Name  Market Cap (GBP$ Billion)\n0                             JPMorgan Chase                    286.319\n1    Industrial and Commercial Bank of China                    252.834\n2                            Bank of America                    238.272\n3                                Wells Fargo                    225.588\n4                    China Construction Bank                    188.519\n..                                       ...                        ...\n100                             Ping An Bank                     27.826\n101                       Standard Chartered                     27.332\n102                     United Overseas Bank                     25.728\n103                                QNB Group                     24.579\n104                              Bank Rakyat                     24.228\n\n[105 rows x 2 columns]",
            "text/html": "<div>\n<style scoped>\n    .dataframe tbody tr th:only-of-type {\n        vertical-align: middle;\n    }\n\n    .dataframe tbody tr th {\n        vertical-align: top;\n    }\n\n    .dataframe thead th {\n        text-align: right;\n    }\n</style>\n<table border=\"1\" class=\"dataframe\">\n  <thead>\n    <tr style=\"text-align: right;\">\n      <th></th>\n      <th>Name</th>\n      <th>Market Cap (GBP$ Billion)</th>\n    </tr>\n  </thead>\n  <tbody>\n    <tr>\n      <th>0</th>\n      <td>JPMorgan Chase</td>\n      <td>286.319</td>\n    </tr>\n    <tr>\n      <th>1</th>\n      <td>Industrial and Commercial Bank of China</td>\n      <td>252.834</td>\n    </tr>\n    <tr>\n      <th>2</th>\n      <td>Bank of America</td>\n      <td>238.272</td>\n    </tr>\n    <tr>\n      <th>3</th>\n      <td>Wells Fargo</td>\n      <td>225.588</td>\n    </tr>\n    <tr>\n      <th>4</th>\n      <td>China Construction Bank</td>\n      <td>188.519</td>\n    </tr>\n    <tr>\n      <th>...</th>\n      <td>...</td>\n      <td>...</td>\n    </tr>\n    <tr>\n      <th>100</th>\n      <td>Ping An Bank</td>\n      <td>27.826</td>\n    </tr>\n    <tr>\n      <th>101</th>\n      <td>Standard Chartered</td>\n      <td>27.332</td>\n    </tr>\n    <tr>\n      <th>102</th>\n      <td>United Overseas Bank</td>\n      <td>25.728</td>\n    </tr>\n    <tr>\n      <th>103</th>\n      <td>QNB Group</td>\n      <td>24.579</td>\n    </tr>\n    <tr>\n      <th>104</th>\n      <td>Bank Rakyat</td>\n      <td>24.228</td>\n    </tr>\n  </tbody>\n</table>\n<p>105 rows × 2 columns</p>\n</div>"
          },
          "metadata": {}
        }
      ]
    },
    {
      "metadata": {
        "id": "74umgdqrSs7s"
      },
      "cell_type": "markdown",
      "source": [
        "### Load\n"
      ]
    },
    {
      "metadata": {
        "id": "CqMqzsTxSs7t"
      },
      "cell_type": "markdown",
      "source": [
        "Log the following `\"Load phase Started\"`.\n"
      ]
    },
    {
      "metadata": {
        "id": "hCsuJEOsSs7t"
      },
      "cell_type": "code",
      "source": [
        "# Write your code here\n",
        "log(\"Load phase Started\")"
      ],
      "execution_count": null,
      "outputs": []
    },
    {
      "metadata": {
        "id": "sOzv4hezSs7t"
      },
      "cell_type": "markdown",
      "source": [
        "Call the load function\n"
      ]
    },
    {
      "metadata": {
        "id": "gooWm1FySs7u"
      },
      "cell_type": "code",
      "source": [
        "# Write your code here\n",
        "load(transformed_data)"
      ],
      "execution_count": null,
      "outputs": []
    },
    {
      "metadata": {
        "id": "DltOqh4xSs7u"
      },
      "cell_type": "markdown",
      "source": [
        "Log the following `\"Load phase Ended\"`.\n"
      ]
    },
    {
      "metadata": {
        "id": "DQ2o9XXJSs7u"
      },
      "cell_type": "code",
      "source": [
        "# Write your code here\n",
        "log(\"Load phase Ended\")"
      ],
      "execution_count": null,
      "outputs": []
    }
  ],
  "metadata": {
    "kernelspec": {
      "name": "python3",
      "display_name": "Python 3.9",
      "language": "python"
    },
    "language_info": {
      "name": "python",
      "version": "3.9.12",
      "mimetype": "text/x-python",
      "codemirror_mode": {
        "name": "ipython",
        "version": 3
      },
      "pygments_lexer": "ipython3",
      "nbconvert_exporter": "python",
      "file_extension": ".py"
    },
    "colab": {
      "name": "Final_ExtractTransformLoad_V2.ipynb",
      "provenance": [],
      "include_colab_link": true
    }
  },
  "nbformat": 4,
  "nbformat_minor": 0
}